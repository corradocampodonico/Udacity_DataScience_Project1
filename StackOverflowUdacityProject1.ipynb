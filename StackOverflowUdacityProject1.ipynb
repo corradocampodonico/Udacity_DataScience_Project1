{
 "cells": [
  {
   "cell_type": "markdown",
   "id": "854097b1",
   "metadata": {},
   "source": [
    "# Project: Is It So Easy to Guess a Developer’s Salary?"
   ]
  },
  {
   "cell_type": "markdown",
   "id": "fcd2f5f2",
   "metadata": {},
   "source": [
    "## Section 1: Business Understanding"
   ]
  },
  {
   "cell_type": "markdown",
   "id": "27f417cb",
   "metadata": {},
   "source": [
    "Purpose of this Project is to further analyse the 2017 Stackoverflow Annual Survey dataset to expose the limits of the Linear Regression model, by trying to predict the Salary of a Developer (respondant of the aforementioned survey) with different input variables."
   ]
  },
  {
   "cell_type": "markdown",
   "id": "76a1a519",
   "metadata": {},
   "source": [
    "### Question 1: is it possible to create a model that foresee the Salary of a Developer, based only on the categorical variables who have not any missing values in the input dataset?"
   ]
  },
  {
   "cell_type": "markdown",
   "id": "ed2aa78b",
   "metadata": {},
   "source": [
    "### Question 2: is it possible to reduce the dimensionality of our problem (predicting salaries based on other factors), and is there a relation between dimensionality and number of features used?"
   ]
  },
  {
   "cell_type": "markdown",
   "id": "33d44274",
   "metadata": {},
   "source": [
    "### Question 3: is the Expected Salary a more predictable indicator than the Salary?"
   ]
  },
  {
   "cell_type": "code",
   "execution_count": 2,
   "id": "98a68767",
   "metadata": {},
   "outputs": [],
   "source": [
    "# Import of required packages\n",
    "import numpy as np\n",
    "import pandas as pd\n",
    "import math as mt\n",
    "import matplotlib.pyplot as plt\n",
    "from sklearn.linear_model import LinearRegression\n",
    "from sklearn.pipeline import make_pipeline\n",
    "from sklearn.preprocessing import StandardScaler\n",
    "from sklearn.model_selection import train_test_split\n",
    "from sklearn.metrics import r2_score, mean_squared_error\n",
    "from sklearn.decomposition import PCA\n",
    "import seaborn as sns\n",
    "%matplotlib inline"
   ]
  },
  {
   "cell_type": "markdown",
   "id": "c5619d72",
   "metadata": {},
   "source": [
    "## Section 2: Data Understanding"
   ]
  },
  {
   "cell_type": "markdown",
   "id": "99845cd5",
   "metadata": {},
   "source": [
    "#### Gather"
   ]
  },
  {
   "cell_type": "code",
   "execution_count": 3,
   "id": "78314872",
   "metadata": {},
   "outputs": [],
   "source": [
    "# Import of required datasets\n",
    "survey_results = pd.read_csv('./survey_results_public.csv')\n",
    "survey_schema = pd.read_csv('./survey_results_schema.csv')"
   ]
  },
  {
   "cell_type": "markdown",
   "id": "562afd9e",
   "metadata": {},
   "source": [
    "#### Preliminary Manipulation"
   ]
  },
  {
   "cell_type": "markdown",
   "id": "c0fcd793",
   "metadata": {},
   "source": [
    "The column \"Respondent\" is dropped immediately, being just an identifier of the people who filled the questionnaire in, hence not usable for any models we want to explore."
   ]
  },
  {
   "cell_type": "code",
   "execution_count": 4,
   "id": "7cd5a1c4",
   "metadata": {},
   "outputs": [],
   "source": [
    "# Preliminary transformation of the data: Column \"Respondent\" dropped\n",
    "survey_results = survey_results.drop('Respondent', axis = 1)"
   ]
  },
  {
   "cell_type": "markdown",
   "id": "e9be01b4",
   "metadata": {},
   "source": [
    "## Section 3: Data Preparation"
   ]
  },
  {
   "cell_type": "markdown",
   "id": "8c7a78bd",
   "metadata": {},
   "source": [
    "First, we divide our Dataset into categorical and numerical variables."
   ]
  },
  {
   "cell_type": "code",
   "execution_count": 5,
   "id": "49cb6f46",
   "metadata": {},
   "outputs": [],
   "source": [
    "# Categorical Variables\n",
    "cat_survey_results = survey_results.select_dtypes(include=['object'])\n",
    "\n",
    "# Numerical Variables\n",
    "num_survey_results = survey_results.select_dtypes(include = ['int', 'float'])"
   ]
  },
  {
   "cell_type": "markdown",
   "id": "157dc3c8",
   "metadata": {},
   "source": [
    "From the subset of categorical variables, we select the ones who have not any missing values."
   ]
  },
  {
   "cell_type": "code",
   "execution_count": 6,
   "id": "99999b3c",
   "metadata": {},
   "outputs": [
    {
     "data": {
      "text/plain": [
       "Index(['Professional', 'ProgramHobby', 'Country', 'University',\n",
       "       'EmploymentStatus', 'FormalEducation'],\n",
       "      dtype='object')"
      ]
     },
     "execution_count": 6,
     "metadata": {},
     "output_type": "execute_result"
    }
   ],
   "source": [
    "full_cat_survey_results = cat_survey_results.columns[cat_survey_results.isnull().mean()==0]\n",
    "full_cat_survey_results"
   ]
  },
  {
   "cell_type": "markdown",
   "id": "792debae",
   "metadata": {},
   "source": [
    "### Question 2"
   ]
  },
  {
   "cell_type": "markdown",
   "id": "47e29c14",
   "metadata": {},
   "source": [
    "#### Helper Functions"
   ]
  },
  {
   "cell_type": "code",
   "execution_count": 7,
   "id": "e8674a6e",
   "metadata": {},
   "outputs": [],
   "source": [
    "# This function aims at reducing the number of input variables by \"cutting them off\" from the model. \n",
    "def runCutoff(cutoff, X, y):\n",
    "    '''\n",
    "    returns set of training data to be used for a linear regression model\n",
    "        \n",
    "    input:\n",
    "        cutoff: number of variables to consider; \n",
    "        X: input variables; \n",
    "        y: output variable(s)\n",
    "    output:\n",
    "        X_train: train set of input variables, reduced, to be used for our model\n",
    "    '''\n",
    "    reduce_X = X.iloc[:, np.where((X.sum() > cutoff) == True)[0]]\n",
    "    reduce_X = StandardScaler().fit_transform(reduce_X)\n",
    "    X_train, X_test, y_train, y_test = train_test_split(reduce_X, y, test_size = .30, random_state=42)\n",
    "    return X_train\n",
    "\n",
    "# This function gives the Explained Variance of the PCA, based on the input variables given to the PCA function itself\n",
    "def pcaExplainedVariance (X, n_components):\n",
    "    '''\n",
    "    returns sum of the Explained Variance of a (training) set of data based on the number of components of the PCA\n",
    "        \n",
    "    input:\n",
    "        X: = input variables (in our case, the reduced set of X_train from the previous function);\n",
    "        n_components = number of components (i.e. linear combination of reduced input variables) that constitute the PCA\n",
    "    output:\n",
    "        sum(pca.explained_variance_ratio_): cumulative sum of the Explained Variance of each component of the PCA\n",
    "    '''\n",
    "    X = StandardScaler().fit_transform(X)\n",
    "    pca = PCA(n_components = n_components)\n",
    "    X = pca.fit_transform(X)\n",
    "    return sum(pca.explained_variance_ratio_)\n",
    "\n",
    "# This function joins the \"runCutoff\" function with the \"pcaExplainedVariance\" one, and creates a matrix of results where\n",
    "# for each line (= number of components of the PCA) we have the Explained Variance with different amount of features used\n",
    "def plotPCACutoffs(X, y, maxCutoff, stepCutoff, n_components):\n",
    "    '''\n",
    "    returns matrix of Explained Variances for number of Principal Components and cutoffs of input variables for the linear model\n",
    "        \n",
    "    input:\n",
    "        X: = input variables of the linear model;\n",
    "        y = output variable(s) of the linear model;\n",
    "        maxCutoff: maximum amount of input variables to be used;\n",
    "        stepCutoff: how many new features we will include during a new iteration of the PCA; \n",
    "        n_components: number of components of the PCA\n",
    "    output:\n",
    "        results: matrix having #rows = \"n_components\", #columns = maxCutoff/stepCutoff\n",
    "    '''\n",
    "    cutoffs = range(0, maxCutoff, stepCutoff)\n",
    "    results = np.zeros((n_components, mt.ceil(maxCutoff/stepCutoff)))\n",
    "    for i in range(1, n_components + 1):\n",
    "        iter = 0\n",
    "        for j in cutoffs:\n",
    "            results[i-1, iter] = pcaExplainedVariance(runCutoff(j, X, y), i) * 100\n",
    "            iter = iter + 1  \n",
    "    return results"
   ]
  },
  {
   "cell_type": "markdown",
   "id": "864d7b72",
   "metadata": {},
   "source": [
    "## Section 4: Data Modelling"
   ]
  },
  {
   "cell_type": "markdown",
   "id": "2f081fef",
   "metadata": {},
   "source": [
    "### Question 1"
   ]
  },
  {
   "cell_type": "markdown",
   "id": "6964bff9",
   "metadata": {},
   "source": [
    "#### Definition of the Variables of the Model"
   ]
  },
  {
   "cell_type": "markdown",
   "id": "2213d185",
   "metadata": {},
   "source": [
    "We first split our Dataset in input (X) and output (y) variables: the input will be the six categorical variables previously identified which have not any missing values in the Dataset."
   ]
  },
  {
   "cell_type": "code",
   "execution_count": 8,
   "id": "d1c26097",
   "metadata": {},
   "outputs": [
    {
     "data": {
      "text/plain": [
       "(51392, 7)"
      ]
     },
     "execution_count": 8,
     "metadata": {},
     "output_type": "execute_result"
    }
   ],
   "source": [
    "fit1 = survey_results[['Salary', 'Country', 'EmploymentStatus', 'FormalEducation', 'ProgramHobby', 'Professional','University']]\n",
    "fit1.shape"
   ]
  },
  {
   "cell_type": "markdown",
   "id": "b30fecb7",
   "metadata": {},
   "source": [
    "For the output variable (y = Salary) that we want to predict, we drop the records for which we do not have any values in the Dataset: these records with missing output value are in fact not usable and not replaceable."
   ]
  },
  {
   "cell_type": "code",
   "execution_count": 9,
   "id": "23bb4a26",
   "metadata": {},
   "outputs": [
    {
     "data": {
      "text/plain": [
       "(12891, 7)"
      ]
     },
     "execution_count": 9,
     "metadata": {},
     "output_type": "execute_result"
    }
   ],
   "source": [
    "fit1 = fit1.dropna(subset = ['Salary'], axis = 0)\n",
    "fit1.shape"
   ]
  },
  {
   "cell_type": "markdown",
   "id": "a21f6e6d",
   "metadata": {},
   "source": [
    "#### Linear Regression Model"
   ]
  },
  {
   "cell_type": "markdown",
   "id": "c2c14495",
   "metadata": {},
   "source": [
    "We build now the linear model for regression:"
   ]
  },
  {
   "cell_type": "code",
   "execution_count": 11,
   "id": "9377e4b4",
   "metadata": {},
   "outputs": [],
   "source": [
    "# X = input variables (i.e. categorical variables), y = output variable (i.e. Salary)\n",
    "X1 = fit1[['Country','EmploymentStatus', 'FormalEducation', 'ProgramHobby', 'Professional', 'University']]\n",
    "y1 = fit1.Salary\n",
    "\n",
    "# Categorical input variables are transformed\n",
    "for var in full_cat_survey_results:\n",
    "    X1 = pd.concat([X1.drop(var, axis=1), pd.get_dummies(X1[var], prefix=var, prefix_sep='_', drop_first=True)], axis=1)\n",
    "    \n",
    "# Division of input data into Train and Test data\n",
    "X1_train, X1_test, y1_train, y1_test = train_test_split(X1, y1, test_size = .30, random_state = 42)\n",
    "\n",
    "# Creation of the Regression Model\n",
    "lm_model_1 = make_pipeline(StandardScaler(), LinearRegression())\n",
    "\n",
    "#Fit\n",
    "lm_model_1.fit(X1_train, y1_train) \n",
    "\n",
    "#Predict on both, Train and Test data\n",
    "y1_test_preds = lm_model_1.predict(X1_test)\n",
    "y1_train_preds = lm_model_1.predict(X1_train)\n",
    "\n",
    "#Score using your model\n",
    "test_score_1 = r2_score(y1_test, y1_test_preds)\n",
    "train_score_1 = r2_score(y1_train, y1_train_preds)"
   ]
  },
  {
   "cell_type": "markdown",
   "id": "ef82578e",
   "metadata": {},
   "source": [
    "### Question 2"
   ]
  },
  {
   "cell_type": "markdown",
   "id": "f395c97c",
   "metadata": {},
   "source": [
    "In order to answer to this question, we need to proceed with two steps: i) Reduction of features for the linear model, ii) Principal Component Analysis."
   ]
  },
  {
   "cell_type": "markdown",
   "id": "bee642c0",
   "metadata": {},
   "source": [
    "i) Reduction of features: we aim at using only part of the input variables (numerical and categorical ones), by selecting from 1 to a certain amount (in this case, 11.000) input variables, to predict the salaries of the respondent to the survey."
   ]
  },
  {
   "cell_type": "markdown",
   "id": "041000d1",
   "metadata": {},
   "source": [
    "ii) Principal Component Analysis: without getting too much into details about this tool, we will apply a PCA to our (reduced - see bullet point above) set of input variables, to \"transform\" the dataset of input variables itself. Result of this PCA is the definition of a new set of input data, which is a linear combination of the original input variables."
   ]
  },
  {
   "cell_type": "markdown",
   "id": "e79316db",
   "metadata": {},
   "source": [
    "By combining i) and ii), we asses the relation between the number of original input variables (features) to be used for the PCA and the number of components (i.e., \"new\" input variables, which are a linear combination of the original set of input variables) of the PCA itself: to do so, we focus on the \"Expected Variance\" of the PCA, i.e. the amount of variation of the output variable described by the new components of the PCA."
   ]
  },
  {
   "cell_type": "markdown",
   "id": "6b97d9aa",
   "metadata": {},
   "source": [
    "We divide the original dataset into input (X) and output (y) variables, and we fill in the numerical input variables (when missing) with the mean value of the column: this allows us to:"
   ]
  },
  {
   "cell_type": "markdown",
   "id": "1a0eb09d",
   "metadata": {},
   "source": [
    "i) be able to use a larger set of data, since we are not removing the records for which we have missing values;"
   ]
  },
  {
   "cell_type": "markdown",
   "id": "bcf3a852",
   "metadata": {},
   "source": [
    "ii) keep the first statistical indicator of a property (its mean) stable, with the aim of not altering significantly the variance of the output variable."
   ]
  },
  {
   "cell_type": "markdown",
   "id": "a38ad4f5",
   "metadata": {},
   "source": [
    "#### Definition of the Variables of the Model"
   ]
  },
  {
   "cell_type": "code",
   "execution_count": 12,
   "id": "145a9d15",
   "metadata": {},
   "outputs": [],
   "source": [
    "# Definition of the output variable of the model, \"Salary\" \n",
    "# We focus on the records for both, input and output sets of data, where \"Salary\" is filled in\n",
    "# We drop also \"Expected Salary\" from the input data set being object of attention for Question 3\n",
    "fit2 = survey_results.dropna(subset = ['Salary'], axis = 0)\n",
    "y2 = fit2.Salary\n",
    "fit2 = fit2.drop(['ExpectedSalary','Salary'], axis=1)\n",
    "\n",
    "# The numerical input variables for which no data is present are filled in with the mean of the column itself\n",
    "num_survey_results_columns = num_survey_results.drop(['ExpectedSalary','Salary'],axis=1).columns\n",
    "for col in num_survey_results_columns:\n",
    "    fit2[col].fillna((fit2[col].mean()), inplace=True)\n",
    "    \n",
    "# Categorical input variables are transformed\n",
    "cat_survey_results_columns = cat_survey_results.columns\n",
    "for var in  cat_survey_results_columns:\n",
    "    fit2 = pd.concat([fit2.drop(var, axis=1), pd.get_dummies(fit2[var], prefix=var, prefix_sep='_', drop_first=True)], axis=1)\n",
    "\n",
    "X2 = fit2"
   ]
  },
  {
   "cell_type": "markdown",
   "id": "cf14d551",
   "metadata": {},
   "source": [
    "### Question 3"
   ]
  },
  {
   "cell_type": "markdown",
   "id": "9cff3a1e",
   "metadata": {},
   "source": [
    "To answer this question, we repeat the steps performed above in terms of i) Definition of the Variables of the Model, ii) Linear Regression Model."
   ]
  },
  {
   "cell_type": "markdown",
   "id": "5b7af2eb",
   "metadata": {},
   "source": [
    "#### Definition of the Variables of the Model"
   ]
  },
  {
   "cell_type": "code",
   "execution_count": 13,
   "id": "9fa16594",
   "metadata": {},
   "outputs": [],
   "source": [
    "# Definition of the output variable of the model, \"ExpectedSalary\" \n",
    "# We focus on the records for both, input and output sets of data, where \"ExpectedSalary\" is filled in\n",
    "# We drop also the column \"Salary\", being object of attention of Question 1 and 2\n",
    "fit3 = survey_results.dropna(subset = ['ExpectedSalary'], axis = 0)\n",
    "y3 = fit3.ExpectedSalary\n",
    "fit3 = fit3.drop(['Salary'], axis=1)\n",
    "\n",
    "# The numerical input variables for which no data is present are filled in with the mean of the column itself\n",
    "num_survey_results_columns = num_survey_results.drop(['Salary', 'ExpectedSalary'],axis=1).columns\n",
    "for col in num_survey_results_columns:\n",
    "    fit3[col].fillna((fit3[col].mean()), inplace=True)\n",
    "    \n",
    "# Categorical input variables are transformed\n",
    "cat_survey_results_columns = cat_survey_results.columns\n",
    "for var in  cat_survey_results_columns:\n",
    "    fit3 = pd.concat([fit3.drop(var, axis=1), pd.get_dummies(fit3[var], prefix=var, prefix_sep='_', drop_first=True)], axis=1)\n",
    "\n",
    "X3 = fit3"
   ]
  },
  {
   "cell_type": "markdown",
   "id": "7b290b2c",
   "metadata": {},
   "source": [
    "#### Linear Regression Model"
   ]
  },
  {
   "cell_type": "code",
   "execution_count": 14,
   "id": "01d67273",
   "metadata": {},
   "outputs": [],
   "source": [
    "# Division of input data into Train and Test data\n",
    "X3_train, X3_test, y3_train, y3_test = train_test_split(X3, y3, test_size = .30, random_state = 42)\n",
    "\n",
    "# Creation of the Regression Model\n",
    "lm_model_3 = make_pipeline(StandardScaler(), LinearRegression())\n",
    "\n",
    "#Fit\n",
    "lm_model_3.fit(X3_train, y3_train) \n",
    "\n",
    "#Predict on both, Train and Test data\n",
    "y3_test_preds = lm_model_3.predict(X3_test)\n",
    "y3_train_preds = lm_model_3.predict(X3_train)\n",
    "\n",
    "#Score using your model\n",
    "test_score_3 = r2_score(y3_test, y3_test_preds)\n",
    "train_score_3 = r2_score(y3_train, y3_train_preds)"
   ]
  },
  {
   "cell_type": "markdown",
   "id": "46b3a50b",
   "metadata": {},
   "source": [
    "## Section 5: Evaluation of the Results"
   ]
  },
  {
   "cell_type": "markdown",
   "id": "c3eee193",
   "metadata": {},
   "source": [
    "### Question 1"
   ]
  },
  {
   "cell_type": "markdown",
   "id": "c62a5b61",
   "metadata": {},
   "source": [
    "#### Preliminary Check"
   ]
  },
  {
   "cell_type": "markdown",
   "id": "2060c2d2",
   "metadata": {},
   "source": [
    "Before analysing the results of the regression, we check that all data (12.891 data points) have been used for both, input and output of the model."
   ]
  },
  {
   "cell_type": "code",
   "execution_count": 15,
   "id": "179b35c7",
   "metadata": {},
   "outputs": [
    {
     "name": "stdout",
     "output_type": "stream",
     "text": [
      "All input data points have been used.\n",
      "All output data points have been used.\n"
     ]
    }
   ],
   "source": [
    "# Check on Input data\n",
    "if X1_train.shape[0] + X1_test.shape[0] - fit1.shape[0] == 0:\n",
    "    print (\"All input data points have been used.\")\n",
    "else:\n",
    "    print (\"Something wrong has happened.\")\n",
    "\n",
    "# Check on Output data\n",
    "if y1_test_preds.shape[0] + y1_train_preds.shape[0] - fit1.shape[0] == 0:\n",
    "    print (\"All output data points have been used.\")\n",
    "else:\n",
    "    print (\"Something wrong has happened.\")"
   ]
  },
  {
   "cell_type": "markdown",
   "id": "a4b08b23",
   "metadata": {},
   "source": [
    "#### Results of the Linear Regression Model"
   ]
  },
  {
   "cell_type": "markdown",
   "id": "7c733347",
   "metadata": {},
   "source": [
    "Now that we know that the linear regression model has worked properly, we can analyse the results of the fit for both, test and training sets."
   ]
  },
  {
   "cell_type": "code",
   "execution_count": 16,
   "id": "1e225832",
   "metadata": {},
   "outputs": [
    {
     "data": {
      "text/plain": [
       "'The r-squared score for the model using only categorical variables which do not contain any missing values, on the test set of data, was -1.5782894991941965e+21 on 3868 values.'"
      ]
     },
     "execution_count": 16,
     "metadata": {},
     "output_type": "execute_result"
    }
   ],
   "source": [
    "# Result of the fitting on test set data\n",
    "\"The r-squared score for the model using only categorical variables which do not contain any missing values, on the test set of data, was {} on {} values.\".format(test_score_1, len(y1_test))"
   ]
  },
  {
   "cell_type": "code",
   "execution_count": 17,
   "id": "0740597f",
   "metadata": {},
   "outputs": [
    {
     "data": {
      "text/plain": [
       "'The r-squared score for the model using only categorical variables which do not contain any missing values, on the training set of data, was 0.6170606739678997 on 9023 values.'"
      ]
     },
     "execution_count": 17,
     "metadata": {},
     "output_type": "execute_result"
    }
   ],
   "source": [
    "# Result of the fitting on trainign set data\n",
    "\"The r-squared score for the model using only categorical variables which do not contain any missing values, on the training set of data, was {} on {} values.\".format(train_score_1, len(y1_train))"
   ]
  },
  {
   "cell_type": "markdown",
   "id": "2ee25022",
   "metadata": {},
   "source": [
    "#### Conclusion"
   ]
  },
  {
   "cell_type": "markdown",
   "id": "1539ce34",
   "metadata": {},
   "source": [
    "Both fittings are not satisfying. On training data, R2 is too low to confirm with statistical significance that the model works properly (one would expect and R2 close to 1 on training data); on test data, the R2 is negative, leading to the conclusion that a linear regression does not capture properly the correlation between input and output variables. We therefore conclude that the categorical variables used to predict the salary of the respondents to the survey are not enough to predict properly their salaries."
   ]
  },
  {
   "cell_type": "markdown",
   "id": "afd66124",
   "metadata": {},
   "source": [
    "### Question 2"
   ]
  },
  {
   "cell_type": "markdown",
   "id": "8b56acf4",
   "metadata": {},
   "source": [
    "#### Explained Variance as a function of number of components and number of features"
   ]
  },
  {
   "cell_type": "code",
   "execution_count": 18,
   "id": "e419906a",
   "metadata": {},
   "outputs": [
    {
     "data": {
      "image/png": "[encoded data removed]",
      "text/plain": [
       "<Figure size 432x288 with 1 Axes>"
      ]
     },
     "metadata": {
      "needs_background": "light"
     },
     "output_type": "display_data"
    }
   ],
   "source": [
    "# Input for the helper functions\n",
    "maxCutoff = 11000\n",
    "stepCutoff = 100\n",
    "n_components = 3\n",
    "cutoffs = range(0, maxCutoff, stepCutoff)\n",
    "\n",
    "# PCA and PCA results (Explained Variance by number of components and features)\n",
    "results = plotPCACutoffs(X = X2, y = y2, maxCutoff = maxCutoff, stepCutoff = stepCutoff, n_components = n_components)\n",
    "\n",
    "# Plot\n",
    "plt.plot(cutoffs, results[0,:], label=\"1 Factor\", alpha=.5)\n",
    "plt.plot(cutoffs, results[1,:], label=\"2 Factos\", alpha=.5)\n",
    "plt.plot(cutoffs, results[2,:], label=\"3 Factos\", alpha=.5)\n",
    "plt.xlabel('Number of Features')\n",
    "plt.ylabel('Explained Variance')\n",
    "plt.title('Explained Variance by Number of Features')\n",
    "plt.legend(loc=2)\n",
    "plt.show()"
   ]
  },
  {
   "cell_type": "markdown",
   "id": "ed2eb0ac",
   "metadata": {},
   "source": [
    "#### Conclusion"
   ]
  },
  {
   "cell_type": "markdown",
   "id": "0d54b8c6",
   "metadata": {},
   "source": [
    "The results of this function are more surprising than expected: if, on one side, in fact, we do see an increase in the Expected Variance by increasing number of features and factors/components, on the other side even with three principal components \"only\" 70% of the variance of the output variable can be explained. This is quite indicative of the lack of robustness/predictive power of the model.\n"
   ]
  },
  {
   "cell_type": "markdown",
   "id": "540423ac",
   "metadata": {},
   "source": [
    "### Question 3"
   ]
  },
  {
   "cell_type": "markdown",
   "id": "f1ff4b9b",
   "metadata": {},
   "source": [
    "#### Preliminary Check"
   ]
  },
  {
   "cell_type": "code",
   "execution_count": 19,
   "id": "c572b7cc",
   "metadata": {},
   "outputs": [
    {
     "name": "stdout",
     "output_type": "stream",
     "text": [
      "All input data points have been used.\n",
      "All output data points have been used.\n"
     ]
    }
   ],
   "source": [
    "# Check on Input data\n",
    "if X3_train.shape[0] + X3_test.shape[0] - fit3.shape[0] == 0:\n",
    "    print (\"All input data points have been used.\")\n",
    "else:\n",
    "    print (\"Something wrong has happened.\")\n",
    "\n",
    "# Check on Output data\n",
    "if y3_test_preds.shape[0] + y3_train_preds.shape[0] - fit3.shape[0] == 0:\n",
    "    print (\"All output data points have been used.\")\n",
    "else:\n",
    "    print (\"Something wrong has happened.\")"
   ]
  },
  {
   "cell_type": "markdown",
   "id": "174461e8",
   "metadata": {},
   "source": [
    "#### Results of the Linear Regression Model"
   ]
  },
  {
   "cell_type": "code",
   "execution_count": 20,
   "id": "e2c259c4",
   "metadata": {},
   "outputs": [
    {
     "data": {
      "text/plain": [
       "'The r-squared score for the model using only categorical variables which do not contain any missing values, on the test set of data, was 0.730647149465175 on 770 values.'"
      ]
     },
     "execution_count": 20,
     "metadata": {},
     "output_type": "execute_result"
    }
   ],
   "source": [
    "# Result of the fitting on test set data\n",
    "\"The r-squared score for the model using only categorical variables which do not contain any missing values, on the test set of data, was {} on {} values.\".format(test_score_3, len(y3_test))"
   ]
  },
  {
   "cell_type": "code",
   "execution_count": 21,
   "id": "d5faa8a2",
   "metadata": {},
   "outputs": [
    {
     "data": {
      "text/plain": [
       "'The r-squared score for the model using only categorical variables which do not contain any missing values, on the training set of data, was 1.0 on 1796 values.'"
      ]
     },
     "execution_count": 21,
     "metadata": {},
     "output_type": "execute_result"
    }
   ],
   "source": [
    "# Result of the fitting on trainign set data\n",
    "\"The r-squared score for the model using only categorical variables which do not contain any missing values, on the training set of data, was {} on {} values.\".format(train_score_3, len(y3_train))"
   ]
  },
  {
   "cell_type": "markdown",
   "id": "7bdf3c84",
   "metadata": {},
   "source": [
    "#### Explained Variance as a function of number of components and number of features"
   ]
  },
  {
   "cell_type": "code",
   "execution_count": 22,
   "id": "2df5f9e5",
   "metadata": {},
   "outputs": [
    {
     "data": {
      "image/png": "[encoded data removed]",
      "text/plain": [
       "<Figure size 432x288 with 1 Axes>"
      ]
     },
     "metadata": {
      "needs_background": "light"
     },
     "output_type": "display_data"
    }
   ],
   "source": [
    "# Input for the helper functions\n",
    "maxCutoff = 2570\n",
    "stepCutoff = 10\n",
    "n_components = 3\n",
    "cutoffs = range(0, maxCutoff, stepCutoff)\n",
    "\n",
    "# PCA and PCA results (Explained Variance by number of components and features)\n",
    "results = plotPCACutoffs(X = X3, y = y3, maxCutoff = maxCutoff, stepCutoff = stepCutoff, n_components = n_components)\n",
    "\n",
    "# Plot\n",
    "plt.plot(cutoffs, results[0,:], label=\"1 Factor\", alpha=.5)\n",
    "plt.plot(cutoffs, results[1,:], label=\"2 Factos\", alpha=.5)\n",
    "plt.plot(cutoffs, results[2,:], label=\"3 Factos\", alpha=.5)\n",
    "plt.xlabel('Number of Features')\n",
    "plt.ylabel('Explained Variance')\n",
    "plt.title('Explained Variance by Number of Features')\n",
    "plt.legend(loc=2)\n",
    "plt.show()"
   ]
  },
  {
   "cell_type": "markdown",
   "id": "cc715924",
   "metadata": {},
   "source": [
    "#### Conclusion"
   ]
  },
  {
   "cell_type": "markdown",
   "id": "5c0a2f6c",
   "metadata": {},
   "source": [
    "The results of the interpolation are again surprising, in fact i) With less input data records (770 test data, plus 1796 train data) the interpolation grants a better fitting between Expected Salary and all the other numerical (but Salary) and categorical values; ii) despite that, the analysis of the Expected Variance of the PCA with different features and principal components results in what already found answering Question 2, i.e. that no more than 70% of the Expected Variance of the ouput variable (Expected Salary) can be explained by the model. For the latter, observing this kind of behaviour for different models may suggest that the issue in the explanation of the output variable's variance would depend not on the model itself/data points used/input variables, but possibly on \"how\" the input variables are treated in the model (for both cases, missing values were filled in with the mean of the column itself)."
   ]
  }
 ],
 "metadata": {
  "kernelspec": {
   "display_name": "StackOverflowUdacityProject1",
   "language": "python",
   "name": "stackoverflowudacityproject1"
  },
  "language_info": {
   "codemirror_mode": {
    "name": "ipython",
    "version": 3
   },
   "file_extension": ".py",
   "mimetype": "text/x-python",
   "name": "python",
   "nbconvert_exporter": "python",
   "pygments_lexer": "ipython3",
   "version": "3.9.12"
  }
 },
 "nbformat": 4,
 "nbformat_minor": 5
}
